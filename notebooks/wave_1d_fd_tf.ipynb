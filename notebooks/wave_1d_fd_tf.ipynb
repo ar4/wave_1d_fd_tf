{
 "cells": [
  {
   "cell_type": "markdown",
   "metadata": {},
   "source": [
    "# 1D finite difference wave propagation implemented using TensorFlow\n",
    "*by [Alan Richardson](mailto:alan@ausargeo.com) ([Ausar Geophysical](http://www.ausargeo.com))*\n",
    "\n",
    "## Summary\n",
    "I implemented a simple (hard boundaries) 1D scalar wave equation propagator using finite differences with Google's [TensorFlow](https://www.tensorflow.org/) library. Although this provides the convenience of being able to write good performance code in Python, it is less flexible than a C or Fortran implementation, and doesn't run as fast.\n",
    "\n",
    "## Introduction\n",
    "TensorFlow is best known as a library for building and training deep neural networks, but it can also be used for other purposes. There is even an official example that uses Tensorflow to [solve a PDE](https://www.tensorflow.org/tutorials/pdes). I [previously](https://github.com/ar4/wave_1d_fd_perf/blob/master/notebooks/wave_1d_fd_perf.ipynb) explored a variety of ways of implementing a 1D finite difference scalar wave propagator (which solves the 1D scalar wave equation PDE) that is callable from Python. Since it is also possible to do this with TensorFlow, and I was curious about the performance, this is an extension of that work.\n",
    "\n",
    "## Code\n",
    "Here is a copy of [the code](https://github.com/ar4/wave_1d_fd_tf/blob/master/wave_1d_fd_tf/propagators.py) that implements the propagator using TensorFlow."
   ]
  },
  {
   "cell_type": "code",
   "execution_count": null,
   "metadata": {
    "collapsed": false
   },
   "outputs": [],
   "source": [
    "class VTF(Propagator):\n",
    "    \"\"\"A TensorFlow implementation.\"\"\"\n",
    "    def __init__(self, model, dx, dt=None):\n",
    "        super(VTF, self).__init__(model, dx, dt, npad=0)\n",
    "        # Create a TensorFlow Session\n",
    "        self.sess = tf.Session()\n",
    "\n",
    "        # Save c(x)^2 * dt^2 as a constant Tensor\n",
    "        self.model_padded2_dt2 = tf.constant(self.model_padded2_dt2)\n",
    "\n",
    "        # Create placeholders that will hold:\n",
    "        #   Two time steps of the wavefield\n",
    "        self.f = tf.placeholder(tf.float32, shape=(self.nx_padded))\n",
    "        self.fp = tf.placeholder(tf.float32, shape=(self.nx_padded))\n",
    "        #   The source amplitude with time, and the source positions\n",
    "        self.sources = tf.placeholder(tf.float32, shape=(None))\n",
    "        self.sources_x = tf.placeholder(tf.int64, shape=(None))\n",
    "\n",
    "        # Create the spatial finite difference kernel that will calculate\n",
    "        # d^2/dx^2, reshape it into the appropriate shape for a 1D\n",
    "        # convolution, and save it as a constant tensor\n",
    "        fd_kernel = np.array([-735, +15360,\n",
    "                              -156800, +1053696,\n",
    "                              -5350800, +22830080,\n",
    "                              -94174080, +538137600,\n",
    "                              -924708642,\n",
    "                              +538137600, -94174080,\n",
    "                              +22830080, -5350800,\n",
    "                              +1053696, -156800,\n",
    "                              +15360, -735] / (302702400 * self.dx**2),\n",
    "                              np.float32)\n",
    "        fd_kernel = fd_kernel.reshape([-1, 1, 1])\n",
    "        fd_kernel = tf.constant(fd_kernel)\n",
    "\n",
    "        # Calculate d^2/dx^2 by convolving with the above kernel\n",
    "        def laplace(x):\n",
    "            return tf.squeeze(tf.nn.conv1d(tf.reshape(x, [1, -1, 1]), fd_kernel, 1, 'SAME'))\n",
    "\n",
    "        # The main evolution equation:\n",
    "        # f(t+1, x) = c(x)^2 * dt^2 * d^2(f(t, x))/dx^2 + 2f(t, x) - f(t-1, x)\n",
    "        self.fp_ = self.model_padded2_dt2 * laplace(self.f) + 2*self.f - self.fp\n",
    "\n",
    "        # Add the sources\n",
    "        # f(t+1, x_s) += c(x_s)^2 * dt^2 * s(t)\n",
    "        # To do this, we need to extract c(x)^2 * dt^2 at the locations of the\n",
    "        # sources. I do this using tf.gather, and then create a new array that\n",
    "        # contains the source amplitudes multiplied by the appropriate\n",
    "        # c(x)^2 * dt^2\n",
    "        sources_v = tf.gather(self.model_padded2_dt2, self.sources_x)\n",
    "        sources_amp = self.sources * sources_v\n",
    "        # We can then add this new array to f(t+1), but to do so we need to\n",
    "        # expand it into the same size as f(t+1) (it currently contains\n",
    "        # one element for each source, but we need it to contain one element\n",
    "        # for each x), so we use tf.sparse_to_dense. This will create an array\n",
    "        # of the right size, almost entirely filled with zeros, with the\n",
    "        # source amplitudes in the right places.\n",
    "        self.fp_ += tf.sparse_to_dense(self.sources_x, [self.nx_padded], sources_amp)\n",
    "\n",
    "    def step(self, num_steps, sources=None, sources_x=None):\n",
    "        \"\"\"Propagate wavefield one time step.\"\"\"\n",
    "\n",
    "        # tf.sparse_to_dense requires that the indicies of the source positions\n",
    "        # (sources_x) are in order, so we need to sort them (and thus also the\n",
    "        # source amplitudes (sources))\n",
    "        ssort = sources_x.argsort()\n",
    "        sources_sort = sources[ssort, :]\n",
    "        sources_x_sort = sources_x[ssort]\n",
    "\n",
    "        for istep in range(num_steps):\n",
    "            # Extract the source amplitudes for this step\n",
    "            sources_step = sources_sort[:,istep]\n",
    "\n",
    "            # Run the computational graph to get the wavefield at t+1.\n",
    "            # We need to pass in values for the placeholders.\n",
    "            y = self.sess.run(self.fp_, {self.sources: sources_step,\n",
    "                                         self.sources_x: sources_x_sort,\n",
    "                                         self.f: self.current_wavefield,\n",
    "                                         self.fp: self.previous_wavefield})\n",
    "            # Save the calculated wavefield\n",
    "            self.previous_wavefield[:] = y[:]\n",
    "\n",
    "            # Swap the wavefield pointers in preparation for the next time step\n",
    "            tmp = self.current_wavefield\n",
    "            self.current_wavefield = self.previous_wavefield\n",
    "            self.previous_wavefield = tmp\n",
    "\n",
    "        if num_steps > 0:\n",
    "            return y\n",
    "        else:\n",
    "            return self.current_wavefield"
   ]
  },
  {
   "cell_type": "markdown",
   "metadata": {},
   "source": [
    "## Ease of implementation\n",
    "To perform computations in TensorFlow, you first construct a computation graph. This allows TensorFlow to create optimised code to implement the computation when the graph is defined. As the same computation is performed repeatedly to propagate a wave forward in time, this approach works well for the propagation application. I create this computation graph in propagator's `__init__` (see the code above), so it runs when the propagator is created. Although it looks like I am doing computations in `__init__`, this is only building the graph. The graph then gets executed in `step`, when I run the session and tell it that I want the value of `self.fp_`.\n",
    "\n",
    "Some frustration arises, however, because of the limited operations that can be performed in TensorFlow. I assume these limitations exist because the library's primary purpose is for training neural networks and so it must be able to automatically differentiate every operation to enable [backpropagation](https://en.wikipedia.org/wiki/Backpropagation). The main one that I encountered in this project occurs when trying to add the sources to the wavefield. I want to add to just a few locations in the wavefield, where the sources are located. TensorFlow has a scatter_add function, which seems perfect, but it can only be used with Variables, whereas the wavefield is a Tensor. The work-around I employ is to use sparse_to_dense, which creates a dense array that is zero except at the locations of the sources. If the wavefield is large and the number of sources is small, this is rather wasteful (adding an array that is almost entirely zeros)."
   ]
  },
  {
   "cell_type": "code",
   "execution_count": 5,
   "metadata": {
    "collapsed": true
   },
   "outputs": [],
   "source": [
    "import pandas as pd\n",
    "import matplotlib\n",
    "from matplotlib import pyplot as plt\n",
    "matplotlib.style.use('ggplot')\n",
    "%matplotlib inline"
   ]
  },
  {
   "cell_type": "markdown",
   "metadata": {},
   "source": [
    "## Results\n",
    "I ran the same tests as [previously](https://github.com/ar4/wave_1d_fd_perf/blob/master/notebooks/wave_1d_fd_perf.ipynb).\n",
    "\n",
    "### Varying the number of time steps"
   ]
  },
  {
   "cell_type": "code",
   "execution_count": 6,
   "metadata": {
    "collapsed": false
   },
   "outputs": [
    {
     "data": {
      "text/plain": [
       "version\n",
       "TensorFlow    Axes(0.125,0.125;0.775x0.775)\n",
       "dtype: object"
      ]
     },
     "execution_count": 6,
     "metadata": {},
     "output_type": "execute_result"
    },
    {
     "data": {
      "image/png": "[encoded data removed]",
      "text/plain": [
       "<matplotlib.figure.Figure at 0xab36c58c>"
      ]
     },
     "metadata": {},
     "output_type": "display_data"
    }
   ],
   "source": [
    "times = pd.read_csv('times_num_steps.csv')\n",
    "fig, ax = plt.subplots(figsize=(8, 6))\n",
    "ax.set_yscale('log')\n",
    "ax.set_ylabel('time (s)')\n",
    "times.groupby('version').plot(x='num_steps', y='time', ax=ax, style='o-', legend=False)"
   ]
  },
  {
   "cell_type": "markdown",
   "metadata": {},
   "source": [
    "The TensorFlow implementation took about 0.06 s for 100 steps in this test. Although quite a bit faster than the Python+Numpy implementation in my previous results (which took around 7.5 s for 100 steps), it is still much slower than my previous C and Fortran implementations, which managed around 0.002 s for 100 steps.\n",
    "\n",
    "### Varying the model size"
   ]
  },
  {
   "cell_type": "code",
   "execution_count": 7,
   "metadata": {
    "collapsed": false
   },
   "outputs": [
    {
     "data": {
      "text/plain": [
       "version\n",
       "TensorFlow    Axes(0.125,0.125;0.775x0.775)\n",
       "dtype: object"
      ]
     },
     "execution_count": 7,
     "metadata": {},
     "output_type": "execute_result"
    },
    {
     "data": {
      "image/png": "[encoded data removed]",
      "text/plain": [
       "<matplotlib.figure.Figure at 0xab3f324c>"
      ]
     },
     "metadata": {},
     "output_type": "display_data"
    }
   ],
   "source": [
    "times = pd.read_csv('times_model_size.csv')\n",
    "fig, ax = plt.subplots(figsize=(8, 6))\n",
    "ax.set_yscale('log')\n",
    "ax.set_ylabel('time (s)')\n",
    "times.groupby('version').plot(x='model_size', y='time', ax=ax, style='o-', legend=False)"
   ]
  },
  {
   "cell_type": "markdown",
   "metadata": {},
   "source": [
    "Logscale makes this plot look a bit strange, but I wanted it to be comparable with the plot in the previous notebook. The story is the same as above: 0.014 s for a 2000 cell model is better than Python (3 s), but worse than C/Fortran (0.0004 s).\n",
    "\n",
    "## Conclusions\n",
    "It's nice to be able to use TensorFlow for applications other than neural networks, and some aspects of development are a little bit easier than when using C/Fortran for the computationally intensive parts (no need to recompile), but the performance difference is large enough that for now I will stick with C/Fortran."
   ]
  }
 ],
 "metadata": {
  "anaconda-cloud": {},
  "kernelspec": {
   "display_name": "Python [Root]",
   "language": "python",
   "name": "Python [Root]"
  },
  "language_info": {
   "codemirror_mode": {
    "name": "ipython",
    "version": 3
   },
   "file_extension": ".py",
   "mimetype": "text/x-python",
   "name": "python",
   "nbconvert_exporter": "python",
   "pygments_lexer": "ipython3",
   "version": "3.5.2"
  }
 },
 "nbformat": 4,
 "nbformat_minor": 0
}
